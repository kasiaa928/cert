{
    "cells": [
        {
            "metadata": {},
            "cell_type": "code",
            "source": "\nimport os, types\nimport pandas as pd\nfrom botocore.client import Config\nimport ibm_boto3\n\ndef __iter__(self): return 0\n\n# @hidden_cell\n# The following code accesses a file in your IBM Cloud Object Storage. It includes your credentials.\n# You might want to remove those credentials before you share the notebook.\ncos_client = ibm_boto3.client(service_name='s3',\n    ibm_api_key_id='p7_zmsFAeSVGD74o4Ju_0CZQhz7-Fo9WDETnBRynCL_h',\n    ibm_auth_endpoint=\"https://iam.cloud.ibm.com/oidc/token\",\n    config=Config(signature_version='oauth'),\n    endpoint_url='https://s3.private.eu.cloud-object-storage.appdomain.cloud')\n\nbucket = 'kasia-donotdelete-pr-poh0ifncxyxywe'\nobject_key = 'ceny.xlsx'\n\nbody = cos_client.get_object(Bucket=bucket,Key=object_key)['Body']\n\ndf_data_0 = pd.read_excel(body.read())\ndf_data_0.head()\n",
            "execution_count": 1,
            "outputs": [
                {
                    "output_type": "execute_result",
                    "execution_count": 1,
                    "data": {
                        "text/plain": "  Miesi\u0105ce Rodzaje towar\u00f3w i us\u0142ug   Rok  Wartosc Jednostka miary\n0  stycze\u0144                     ry\u017c  2014     4.03              z\u0142\n1  stycze\u0144                     ry\u017c  2015     3.80              z\u0142\n2  stycze\u0144                     ry\u017c  2016     3.80              z\u0142\n3  stycze\u0144                     ry\u017c  2017     3.86              z\u0142\n4  stycze\u0144           bu\u0142ka pszenna  2014     0.43              z\u0142",
                        "text/html": "<div>\n<style scoped>\n    .dataframe tbody tr th:only-of-type {\n        vertical-align: middle;\n    }\n\n    .dataframe tbody tr th {\n        vertical-align: top;\n    }\n\n    .dataframe thead th {\n        text-align: right;\n    }\n</style>\n<table border=\"1\" class=\"dataframe\">\n  <thead>\n    <tr style=\"text-align: right;\">\n      <th></th>\n      <th>Miesi\u0105ce</th>\n      <th>Rodzaje towar\u00f3w i us\u0142ug</th>\n      <th>Rok</th>\n      <th>Wartosc</th>\n      <th>Jednostka miary</th>\n    </tr>\n  </thead>\n  <tbody>\n    <tr>\n      <th>0</th>\n      <td>stycze\u0144</td>\n      <td>ry\u017c</td>\n      <td>2014</td>\n      <td>4.03</td>\n      <td>z\u0142</td>\n    </tr>\n    <tr>\n      <th>1</th>\n      <td>stycze\u0144</td>\n      <td>ry\u017c</td>\n      <td>2015</td>\n      <td>3.80</td>\n      <td>z\u0142</td>\n    </tr>\n    <tr>\n      <th>2</th>\n      <td>stycze\u0144</td>\n      <td>ry\u017c</td>\n      <td>2016</td>\n      <td>3.80</td>\n      <td>z\u0142</td>\n    </tr>\n    <tr>\n      <th>3</th>\n      <td>stycze\u0144</td>\n      <td>ry\u017c</td>\n      <td>2017</td>\n      <td>3.86</td>\n      <td>z\u0142</td>\n    </tr>\n    <tr>\n      <th>4</th>\n      <td>stycze\u0144</td>\n      <td>bu\u0142ka pszenna</td>\n      <td>2014</td>\n      <td>0.43</td>\n      <td>z\u0142</td>\n    </tr>\n  </tbody>\n</table>\n</div>"
                    },
                    "metadata": {}
                }
            ]
        },
        {
            "metadata": {},
            "cell_type": "code",
            "source": "",
            "execution_count": null,
            "outputs": []
        }
    ],
    "metadata": {
        "kernelspec": {
            "name": "python39",
            "display_name": "Python 3.9 with Spark",
            "language": "python3"
        },
        "language_info": {
            "name": "python",
            "version": "3.9.13",
            "mimetype": "text/x-python",
            "codemirror_mode": {
                "name": "ipython",
                "version": 3
            },
            "pygments_lexer": "ipython3",
            "nbconvert_exporter": "python",
            "file_extension": ".py"
        }
    },
    "nbformat": 4,
    "nbformat_minor": 1
}